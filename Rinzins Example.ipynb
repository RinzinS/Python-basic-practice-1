{
 "cells": [
  {
   "cell_type": "code",
   "execution_count": 1,
   "id": "c6edcbf5-cb03-4312-8f93-9df594a38783",
   "metadata": {},
   "outputs": [
    {
     "name": "stdout",
     "output_type": "stream",
     "text": [
      "Hello World 2!\n"
     ]
    }
   ],
   "source": [
    "print(\"Hello World 2!\")"
   ]
  },
  {
   "cell_type": "code",
   "execution_count": 2,
   "id": "a7b11bb1-1322-440e-ba7f-9df94581d2c1",
   "metadata": {},
   "outputs": [
    {
     "name": "stdout",
     "output_type": "stream",
     "text": [
      "Hello! 0\n",
      "Hello! 1\n",
      "Hello! 2\n",
      "Hello! 3\n",
      "Hello! 4\n",
      "Hello! 5\n",
      "Hello! 6\n",
      "Hello! 7\n",
      "Hello! 8\n",
      "Hello! 9\n"
     ]
    }
   ],
   "source": [
    "for i in range(10):\n",
    "    print(\"Hello! \" + str(i))"
   ]
  },
  {
   "cell_type": "code",
   "execution_count": 3,
   "id": "acc8a03e-2320-455e-a609-ab37aca2392b",
   "metadata": {},
   "outputs": [
    {
     "name": "stdout",
     "output_type": "stream",
     "text": [
      "This is exercise practice for TESU\n"
     ]
    }
   ],
   "source": [
    "print(\"This is exercise practice for TESU\");\n"
   ]
  },
  {
   "cell_type": "code",
   "execution_count": 16,
   "id": "5b6b707c-1f4f-47aa-bf01-d14b4cf4f7ea",
   "metadata": {},
   "outputs": [
    {
     "name": "stdout",
     "output_type": "stream",
     "text": [
      "12\n"
     ]
    }
   ],
   "source": [
    "a = 5\n",
    "b = 7\n",
    "c = a + b\n",
    "print(c)"
   ]
  },
  {
   "cell_type": "code",
   "execution_count": 5,
   "id": "d361e232-8c62-4ff0-8341-6a2df7ba6e67",
   "metadata": {},
   "outputs": [
    {
     "name": "stdout",
     "output_type": "stream",
     "text": [
      "12\n"
     ]
    }
   ],
   "source": [
    "def add_number(a,b):\n",
    "    return a+b\n",
    "result = add_number(5,7)\n",
    "print(result)"
   ]
  },
  {
   "cell_type": "code",
   "execution_count": 49,
   "id": "5d38abac-fc92-45e3-915e-182a59294bc1",
   "metadata": {},
   "outputs": [
    {
     "name": "stdin",
     "output_type": "stream",
     "text": [
      "Enter the number for p 4\n",
      "Enter the number for m 5\n"
     ]
    },
    {
     "name": "stdout",
     "output_type": "stream",
     "text": [
      "The sum of 4 and 5 is 9\n"
     ]
    }
   ],
   "source": [
    "def add_number(p,m):\n",
    "    return p+m\n",
    "p = int(input(\"Enter the number for p\"))\n",
    "m = int(input(\"Enter the number for m\"))\n",
    "result = add_number(p,m)\n",
    "print(f\"The sum of {p} and {m} is {result}\")"
   ]
  },
  {
   "cell_type": "code",
   "execution_count": 7,
   "id": "bb3eb595-45da-486f-b233-f779bd7e0a90",
   "metadata": {},
   "outputs": [
    {
     "name": "stdout",
     "output_type": "stream",
     "text": [
      "5\n"
     ]
    }
   ],
   "source": [
    "# Note: Knows about 'a' even though it was set in a different cell\n",
    "print(a)"
   ]
  },
  {
   "cell_type": "code",
   "execution_count": 103,
   "id": "06f2620d-02c7-42a0-b528-6e4256d6f6de",
   "metadata": {},
   "outputs": [
    {
     "name": "stdin",
     "output_type": "stream",
     "text": [
      "Please Enter C to convert Fahrenheit to Celcius or F to convert Celcius to Fahrenheit C\n"
     ]
    },
    {
     "name": "stdout",
     "output_type": "stream",
     "text": [
      "Thank you for entering C of conversion\n"
     ]
    },
    {
     "name": "stdin",
     "output_type": "stream",
     "text": [
      "Please enter a number to convert the temperature 99\n"
     ]
    },
    {
     "name": "stdout",
     "output_type": "stream",
     "text": [
      "99.0 converted to Fahrenheit is 210.20 in fahrenheit\n"
     ]
    }
   ],
   "source": [
    "def temp_convert():\n",
    "        choice =  input(\"Please Enter C to convert Fahrenheit to Celcius or F to convert Celcius to Fahrenheit\")\n",
    "        #number = float(input(f(\"Thank you for entering {choice} for temperature conversion\")))\n",
    "        #choice = (input(f\"Thank you for entering your choice for temperature conversion: \"))\n",
    "    \n",
    "        print(f\"Thank you for entering {choice} for Temperature conversion\")\n",
    "        \n",
    "        number = float(input(f\"Please enter a number to convert the temperature\"))\n",
    "\n",
    "        if choice == \"C\":\n",
    "              fahrenheit = (float(number * 9 / 5) + 32)\n",
    "              print(f\"{number} converted to Fahrenheit is {fahrenheit:.2f} in fahrenheit\")\n",
    "    \n",
    "        elif choice  == \"F\":\n",
    "            celcius = (float(number) - 32) * 5 / 9\n",
    "          \n",
    "            print(f\"{number} converted to Celcius is {celcius:.2f} in celcius\")\n",
    "        else:\n",
    "            print(\"You did not enter C or F\")\n",
    "temp_convert()"
   ]
  },
  {
   "cell_type": "code",
   "execution_count": 28,
   "id": "5f6f4e88-696f-4d64-b57b-5a4f91efc919",
   "metadata": {},
   "outputs": [
    {
     "name": "stdout",
     "output_type": "stream",
     "text": [
      "Please Type Km to convert to Kilometer & M to convert to Meter\n"
     ]
    },
    {
     "name": "stdin",
     "output_type": "stream",
     "text": [
      "Please enter your choice of Conversion km\n",
      "Enter your distance to convert 2.45\n"
     ]
    },
    {
     "name": "stdout",
     "output_type": "stream",
     "text": [
      "The 2.45 value you entered has been converted to 2450.00 Kilometer\n"
     ]
    }
   ],
   "source": [
    "def dist_convert():\n",
    "    print(\"Please Type Km to convert to Kilometer & M to convert to Meter\")\n",
    "    useselect = input(\"Please enter your choice of Conversion\").lower()\n",
    "    usedcsion = f\"You have made your decesion and entered {useselect}\"\n",
    "    distance = float (input(\"Enter your distance to convert\"))\n",
    "    if useselect == \"Km\".lower():\n",
    "        Kilometer = distance * 1000\n",
    "        print(f\"The {distance} value you entered has been converted to {Kilometer:.2f} Kilometer\")\n",
    "    elif useselect == \"m\".lower():\n",
    "         meter = distance / 1000\n",
    "         print(\"meter\")\n",
    "    else:\n",
    "       print(\"You entered invalid choice\")\n",
    "dist_convert()\n",
    "    "
   ]
  },
  {
   "cell_type": "code",
   "execution_count": 1,
   "id": "9e46a25d-93c8-40c8-b088-c4067bccb947",
   "metadata": {},
   "outputs": [
    {
     "name": "stdout",
     "output_type": "stream",
     "text": [
      "Pi rounded to two decimals is 3.14\n"
     ]
    }
   ],
   "source": [
    "pi = 3.14159\n",
    "print(f\"Pi rounded to two decimals is {pi:.2f}\")\n"
   ]
  },
  {
   "cell_type": "code",
   "execution_count": 15,
   "id": "0d08a8a3-77da-4b10-aeda-82820c88d83c",
   "metadata": {},
   "outputs": [
    {
     "name": "stdout",
     "output_type": "stream",
     "text": [
      "[1, 2, 3, 4]\n"
     ]
    }
   ],
   "source": [
    "def num_list(elements):\n",
    "    return elements\n",
    "result = num_list([1,2,3,4])\n",
    "print(result)"
   ]
  },
  {
   "cell_type": "code",
   "execution_count": 38,
   "id": "b5418ff6-b64f-4a90-896e-224a13bce21e",
   "metadata": {},
   "outputs": [
    {
     "name": "stdout",
     "output_type": "stream",
     "text": [
      "4\n",
      "12\n",
      "18\n",
      "67\n"
     ]
    }
   ],
   "source": [
    "def p_list(items):\n",
    "    items.sort()\n",
    "    for element in items:\n",
    "        print (element) \n",
    "\n",
    "p_list([12,4,67,18])\n"
   ]
  },
  {
   "cell_type": "code",
   "execution_count": 28,
   "id": "727400de-d1a5-40e3-85af-faf773e6d316",
   "metadata": {},
   "outputs": [
    {
     "name": "stdout",
     "output_type": "stream",
     "text": [
      "[4, 6, 8, 10]\n"
     ]
    }
   ],
   "source": [
    "def r_list(inpt):\n",
    "    for i in inpt:\n",
    "     return inpt\n",
    "r = r_list([4,6,8,10])\n",
    "print(r)"
   ]
  },
  {
   "cell_type": "code",
   "execution_count": 3,
   "id": "8a568ede-e222-467f-a83b-cf3aec077be8",
   "metadata": {},
   "outputs": [
    {
     "name": "stdout",
     "output_type": "stream",
     "text": [
      "77\n",
      "5\n"
     ]
    }
   ],
   "source": [
    "a = 5\n",
    "b = 77\n",
    "#lets swap a and b\n",
    "temp = a\n",
    "a = b\n",
    "b = temp\n",
    "\n",
    "print (a)\n",
    "print (b)"
   ]
  },
  {
   "cell_type": "code",
   "execution_count": 15,
   "id": "cce53480-b7d9-486e-b955-d3f1119b1e47",
   "metadata": {},
   "outputs": [
    {
     "name": "stdout",
     "output_type": "stream",
     "text": [
      "(55, 66)\n",
      "(66, 55)\n"
     ]
    }
   ],
   "source": [
    "def init(a,b):\n",
    "    return a,b\n",
    "anum = init(55,66)\n",
    "print(anum)\n",
    "\n",
    "def swap_init(a,b):\n",
    "    temp = a\n",
    "    a = b\n",
    "    b = temp\n",
    "    return(a,b)\n",
    "bnum = swap_init(55,66)\n",
    "print(bnum)\n"
   ]
  },
  {
   "cell_type": "code",
   "execution_count": null,
   "id": "0b8e3ab2-5efa-4683-a553-eea0bb4bda43",
   "metadata": {},
   "outputs": [],
   "source": []
  },
  {
   "cell_type": "code",
   "execution_count": 3,
   "id": "25e768c9-9b86-45b1-939e-1749eadb0584",
   "metadata": {},
   "outputs": [
    {
     "ename": "SyntaxError",
     "evalue": "invalid syntax (1999858240.py, line 4)",
     "output_type": "error",
     "traceback": [
      "\u001b[1;36m  Cell \u001b[1;32mIn[3], line 4\u001b[1;36m\u001b[0m\n\u001b[1;33m    if\u001b[0m\n\u001b[1;37m      ^\u001b[0m\n\u001b[1;31mSyntaxError\u001b[0m\u001b[1;31m:\u001b[0m invalid syntax\n"
     ]
    }
   ],
   "source": [
    "swap_list = 5,7,1,3,10\n",
    "def my_swap(swap_list):\n",
    "    return swap_list\n",
    "    if\n",
    "        swap_list[0]<swap_list[1]:\n",
    "        \n",
    "    print swaplist[0[\n",
    "else:\n",
    "    temp = swap_list[0]\n",
    "    swap_list[0]=swap_list[1]\n",
    "    swap_list[1] = temp\n",
    "pnum = my_swap(swap_list)\n",
    "\n"
   ]
  },
  {
   "cell_type": "code",
   "execution_count": 3,
   "id": "8c4e1c8c-f667-4825-b25e-bfeb1cdd0648",
   "metadata": {},
   "outputs": [
    {
     "name": "stdout",
     "output_type": "stream",
     "text": [
      "After swap: [5, 7, 1, 3, 10]\n"
     ]
    }
   ],
   "source": []
  },
  {
   "cell_type": "code",
   "execution_count": 4,
   "id": "a339fa47-4042-422c-9b47-72b51a5c4d35",
   "metadata": {},
   "outputs": [
    {
     "name": "stdout",
     "output_type": "stream",
     "text": [
      "5\n"
     ]
    }
   ],
   "source": [
    "swap_list = 5,7,1,3,10\n",
    "def my_swap(swap_list):\n",
    "    if swap_list[0] < swap_list[1]:\n",
    "        print(swap_list[0])\n",
    "    else:\n",
    "        temp = swap_list[0]\n",
    "        swap_list[0] = swap_list[1]\n",
    "        swap_list[1] = temp\n",
    "    return swap_list  # Return after processing\n",
    "    \n",
    "pnum = my_swap(swap_list)"
   ]
  },
  {
   "cell_type": "code",
   "execution_count": 5,
   "id": "6946996f-3d63-4b31-a436-9f5cc0c9eb22",
   "metadata": {},
   "outputs": [
    {
     "name": "stdout",
     "output_type": "stream",
     "text": [
      "Sorted list (ascending order): [1, 3, 5, 7, 10]\n"
     ]
    }
   ],
   "source": [
    "# Define a function to sort the list in ascending order\n",
    "def selection_sort(swap_list):\n",
    "    n = len(swap_list)\n",
    "\n",
    "    for i in range(n - 1):\n",
    "        min_index = i  # Assume the first element is the smallest\n",
    "\n",
    "        # Find the smallest number in the remaining list\n",
    "        for j in range(i + 1, n):\n",
    "            if swap_list[j] < swap_list[min_index]:\n",
    "                min_index = j  # Update the index of the smallest element\n",
    "\n",
    "        # Swap the smallest number with the first number in the unsorted part\n",
    "        temp = swap_list[min_index]\n",
    "        swap_list[min_index] = swap_list[i]\n",
    "        swap_list[i] = temp\n",
    "\n",
    "    return swap_list  # Return the sorted list\n",
    "\n",
    "# Define the unsorted list\n",
    "swap_list = [5, 7, 1, 3, 10]\n",
    "\n",
    "# Call the sorting function\n",
    "sorted_list = selection_sort(swap_list)\n",
    "\n",
    "# Print the sorted list\n",
    "print(\"Sorted list (ascending order):\", sorted_list)"
   ]
  },
  {
   "cell_type": "code",
   "execution_count": 53,
   "id": "b3d41096-1314-4e8b-b4f3-fbd324eb9539",
   "metadata": {},
   "outputs": [
    {
     "name": "stdout",
     "output_type": "stream",
     "text": [
      "4\n",
      "2\n",
      "9\n",
      "3\n"
     ]
    }
   ],
   "source": [
    "check_list = [4,2,9,3]\n",
    "def my_list(check_list):\n",
    "    for elements in check_list:\n",
    "        print(elements)\n",
    "my_list(check_list)\n",
    "    "
   ]
  },
  {
   "cell_type": "code",
   "execution_count": 60,
   "id": "a793ffba-521e-400e-9a85-a9e316d8c469",
   "metadata": {},
   "outputs": [
    {
     "name": "stdout",
     "output_type": "stream",
     "text": [
      "Sorted list in ascending order: [0, 2, 3, 4, 9]\n"
     ]
    }
   ],
   "source": [
    "check_list = [4, 2, 9, 3,0]  # Define list\n",
    "\n",
    "def my_list(check_list):\n",
    "    for i in range(len(check_list)):  # Use `len(check_list)` gives 4, so runs 4 times\n",
    "       # print(check_list[i])  # Print values instead of indexes\n",
    "\n",
    "       for j in range(i+1,len(check_list)):# i+ 1 = index 0+1 = 1 with element 2  \n",
    "           if check_list[i] > check_list[j]:# compares 4 with 2 then swap, compares 4 with 9 no swap, compares 4 with 3 swap, goes to \n",
    "               temp = check_list[i]\n",
    "               check_list[i]= check_list[j]\n",
    "               check_list[j] = temp\n",
    "    return check_list  # Return sorted list\n",
    "print(\"Sorted list in ascending order:\", my_list(check_list))\n",
    "\n",
    "\n",
    "\n",
    "\n",
    "     "
   ]
  },
  {
   "cell_type": "code",
   "execution_count": null,
   "id": "b0824a90-b511-42ae-8658-8d2dd0f6f840",
   "metadata": {},
   "outputs": [],
   "source": [
    "\n",
    "Given Array: [2, 0, 1, 6, 3]\n",
    "First Iteration (i = 0)\n",
    "1️⃣ Outer loop starts → i = 0, min_index = 0 (assume first element is smallest).\n",
    "2️⃣ Inner loop (j = 1 to 4) scans for the smallest value:\n",
    "- j = 1, arr[1] = 0, ✔ Update min_index = 1.\n",
    "- j = 2, arr[2] = 1, ❌ No update (1 ≥ 0).\n",
    "- j = 3, arr[3] = 6, ❌ No update (6 ≥ 0).\n",
    "- j = 4, arr[4] = 3, ❌ No update (3 ≥ 0).\n",
    "3️⃣ Inner loop finishes → min_index = 1 (smallest value found is arr[1] = 0).\n",
    "4️⃣ Now Swap Happens: arr[0] ↔ arr[min_index], so [0, 2, 1, 6, 3].\n",
    "5️⃣ Move to outer loop (i = 1) and repeat the process for the next position.\n",
    "Key Takeaways\n",
    "🚀 Swap happens AFTER inner loop finishes and identifies the smallest element.\n",
    "🚀 At swap time, min_index holds the index of the smallest element found.\n",
    "🚀 j is no longer relevant—it was just used to scan.\n",
    "🚀 After swapping, i increments, moving to the next sorting position.\n",
    "Does this make it click now? You're so close! 😊\n",
    "\n",
    "\n",
    "\n",
    "    🔹 First Iteration (i = 0 - Sorting the first position)\n",
    "✔ Assume min_index = i = 0 (arr[0] = 2).\n",
    "✔ Start inner loop (j = 1 to 4):\n",
    "- j = 1, arr[1] = 0, → 0 < 2, update min_index = 1.\n",
    "- j = 2, arr[2] = 1, → 1 ≥ 0, min_index stays 1.\n",
    "- j = 3, arr[3] = 6, → 6 ≥ 0, min_index stays 1.\n",
    "- j = 4, arr[4] = 3, → 3 ≥ 0, min_index stays 1.\n",
    "✔ Inner loop finishes → min_index = 1 (arr[1] = 0) is the smallest value found.\n",
    "✔ Swap arr[0] and arr[min_index] → [0, 2, 1, 6, 3].\n",
    "✔ Move to next iteration (i = 1).\n",
    "\n",
    "Move to the next iteration\" means going back to the outer loop, where i increments.\n",
    "min_idx = i so outer for loop iterates now i goes from 0 to 1 so now min_idx updates to 1\n",
    "\n",
    "Key Rule for Swapping\n",
    "✔ If min_idx was updated, then swap happens (arr[i] ↔ arr[min_idx]).\n",
    "✔ If min_idx remained equal to i (no smaller value was found), swap is skipped.\n",
    "✔ Regardless of swapping, i still increments and moves to the next position.\n",
    "\n",
    "1️⃣ When min_idx is updated, swap happens immediately.\n",
    "2️⃣ After the swap, the outer loop iterates and updates i.\n",
    "3️⃣ Since min_idx = i, min_idx also updates along with i.\n",
    "4️⃣ The nested loop starts again, setting j = i + 1.\n",
    "5️⃣ Now arry[i] (previous min_idx) becomes the new sorting target, and j scans the unsorted part of the array.\n",
    "\n",
    "                                            \n",
    "\n",
    "Second Iteration (i = 1 - Sorting the second position)\n",
    "✔ Assume min_index = i = 1 (arr[1] = 2).\n",
    "✔ Start inner loop (j = 2 to 4):\n",
    "- j = 2, arr[2] = 1, → 1 < 2, update min_index = 2.\n",
    "- j = 3, arr[3] = 6, → 6 ≥ 1, min_index stays 2.\n",
    "- j = 4, arr[4] = 3, → 3 ≥ 1, min_index stays 2.\n",
    "✔ Inner loop finishes → min_index = 2 (arr[2] = 1) is the smallest value found.\n",
    "✔ Swap arr[1] and arr[min_index] → [0, 1, 2, 6, 3].\n",
    "✔ Move to next iteration (i = 2).\n",
    "\n",
    "\n",
    "Third Iteration (i = 2 - Sorting the third position)\n",
    "✔ Assume min_index = i = 2 (arr[2] = 2).\n",
    "✔ Start inner loop (j = 3 to 4):\n",
    "- j = 3, arr[3] = 6, → 6 ≥ 2, min_index stays 2.\n",
    "- j = 4, arr[4] = 3, → 3 ≥ 2, min_index stays 2.\n",
    "✔ Inner loop finishes → min_index = 2, meaning arr[2] = 2 is already correct.\n",
    "✔ No swap needed, move to next iteration (i = 3).\n",
    "\n",
    "\n",
    "Fourth Iteration (i = 3 - Sorting the fourth position)\n",
    "✔ Assume min_index = i = 3 (arr[3] = 6).\n",
    "✔ Start inner loop (j = 4):\n",
    "- j = 4, arr[4] = 3, → 3 < 6, update min_index = 4.\n",
    "✔ Inner loop finishes → min_index = 4 (arr[4] = 3) is the smallest value found.\n",
    "✔ Swap arr[3] and arr[min_index] → [0, 1, 2, 3, 6].\n",
    "✔ Move to next iteration (i = 4).\n",
    "\n",
    "\n",
    " Fifth Iteration (i = 4)\n",
    "✅ No need for further sorting—last element is already correct!\n",
    "🚀 Final Sorted Array → [0, 1, 2, 3, 6]\n",
    "\n",
    "🔑 Key Takeaways\n",
    "✔ Inner loop scans the unsorted portion and updates min_index as needed.\n",
    "✔ At the end of the inner loop, min_index holds the position of the smallest value found.\n",
    "✔ Swap happens only AFTER the inner loop finishes scanning.\n",
    "✔ Regardless of swapping, i always increments, continuing the sorting process.\n",
    "✔ Once i reaches the second-to-last index, the sorting is complete!\n",
    "Does this make things clearer now? 😊🚀\n",
    "\n",
    "    my mistakes earlier\n",
    "\n",
    "    ⃣ Incorrect Loop Syntax:\n",
    "- You used range(i, len(arry)), but i is not defined yet when calling range(i, …).\n",
    "- Fix: for i in range(len(arry))\n",
    "2️⃣ Wrong Update of min_idx:\n",
    "- You mistakenly tried arry[min_idx] = j, which doesn’t make sense.\n",
    "- Fix: min_idx = j to store the correct index of the smallest value.\n",
    "3️⃣ Incorrect Swap:\n",
    "- You swapped with j instead of min_idx.\n",
    "- Fix: Swap using temp = arry[i], arry[i] = arry[min_idx], arry[min_idx] = temp.\n",
    "4️⃣ Off-by-One Error in Inner Loop:\n",
    "- range(i+1, len(arry)-1) skipped the last element.\n",
    "- Fix: range(i+1, len(arry)) ensures all elements are checked.\n",
    "\n",
    "                                 "
   ]
  },
  {
   "cell_type": "code",
   "execution_count": 9,
   "id": "4d2eb56a-1dc6-4896-a08e-6c9d65cc85ac",
   "metadata": {},
   "outputs": [
    {
     "name": "stdout",
     "output_type": "stream",
     "text": [
      "[-1, 0, 1, 2, 3, 6]\n"
     ]
    }
   ],
   "source": [
    "arry = [0,2,1,6,3,-1]\n",
    "def selection_sort(arry):\n",
    "    for i in range(len(arry)):\n",
    "        min_idx = i\n",
    "        for j in range(i+1,len(arry)):\n",
    "            if arry[j] < arry[min_idx]:\n",
    "                min_idx = j\n",
    "        temp = arry[i] # swapping is outside the nested for loop but inside the outer for loop\n",
    "        arry[i]=arry[min_idx]\n",
    "        arry[min_idx] = temp\n",
    "    return arry\n",
    "print(selection_sort(arry))"
   ]
  },
  {
   "cell_type": "code",
   "execution_count": 11,
   "id": "8a582aae-8564-4f63-8b3f-d7888e14135d",
   "metadata": {},
   "outputs": [
    {
     "name": "stdout",
     "output_type": "stream",
     "text": [
      "[0, 1, 2, 3, 6]\n"
     ]
    }
   ],
   "source": [
    "my_arry = [2,0,1,6,3]\n",
    "my_arry.sort()\n",
    "print(my_arry)"
   ]
  },
  {
   "cell_type": "code",
   "execution_count": 4,
   "id": "d1b35784-ebd5-42ec-bae3-38411fb35d52",
   "metadata": {},
   "outputs": [
    {
     "name": "stdout",
     "output_type": "stream",
     "text": [
      "(1, 2)\n",
      "(3, 4)\n",
      "(5, 6)\n",
      "2\n",
      "1\n",
      "4\n",
      "3\n",
      "6\n",
      "5\n"
     ]
    }
   ],
   "source": [
    "mylist = [(1,2),(3,4),(5,6)]\n",
    "for item in mylist:\n",
    "    print (item)\n",
    "for (a,b) in mylist:\n",
    "    print (b)\n",
    "    print (a)"
   ]
  },
  {
   "cell_type": "code",
   "execution_count": 19,
   "id": "27edb05a-ae8e-4f73-b186-bd408aa67a30",
   "metadata": {},
   "outputs": [
    {
     "name": "stdout",
     "output_type": "stream",
     "text": [
      "('K1', 1)\n",
      "('K2', 2)\n",
      "K1\n",
      "K2\n",
      "1\n",
      "2\n"
     ]
    }
   ],
   "source": [
    "dict1 = {'K1' : 1, 'K2' : 2}\n",
    "for element in dict1.items():\n",
    "    print (element)\n",
    "\n",
    "for element in dict1.keys():\n",
    "    print (element)\n",
    "\n",
    "for element in dict1.values():\n",
    "    print (element)"
   ]
  },
  {
   "cell_type": "code",
   "execution_count": 16,
   "id": "bbe8c584-3f03-4244-a1f1-d54eee838709",
   "metadata": {},
   "outputs": [
    {
     "name": "stdout",
     "output_type": "stream",
     "text": [
      "(0, 'G')\n",
      "(1, 'r')\n",
      "(2, 'e')\n",
      "(3, 'a')\n",
      "(4, 't')\n",
      "(5, 'e')\n",
      "(6, 'r')\n",
      "(7, 'N')\n",
      "(8, 'e')\n",
      "(9, 'p')\n",
      "(10, 'a')\n",
      "(11, 'l')\n"
     ]
    }
   ],
   "source": [
    "word = 'GreaterNepal'\n",
    "for element in enumerate(word):\n",
    "    print (element)"
   ]
  },
  {
   "cell_type": "code",
   "execution_count": 28,
   "id": "2a257a0a-45e5-4bff-8337-c440756ed7ae",
   "metadata": {},
   "outputs": [
    {
     "name": "stdout",
     "output_type": "stream",
     "text": [
      "['G', 'r', 'e', 'a', 't', 'e', 'r', 'N', 'e', 'p', 'a', 'l']\n"
     ]
    }
   ],
   "source": [
    "word = 'GreaterNepal'\n",
    "clist =  [element for element  in word]\n",
    "print(clist)"
   ]
  },
  {
   "cell_type": "code",
   "execution_count": 18,
   "id": "2b706886-29ff-4371-adef-419bdaf46d23",
   "metadata": {},
   "outputs": [
    {
     "name": "stdout",
     "output_type": "stream",
     "text": [
      "(11, 'ar')\n",
      "(23, 'bc')\n",
      "(34, 'dv')\n"
     ]
    }
   ],
   "source": [
    "mylist1 = [11,23,34,45,67]\n",
    "mylist2 = ['ar','bc','dv']\n",
    "for element in zip(mylist1,mylist2):\n",
    "    print (element)"
   ]
  },
  {
   "cell_type": "code",
   "execution_count": 36,
   "id": "4f315e50-ef92-4089-9c78-47e6d784606c",
   "metadata": {},
   "outputs": [
    {
     "name": "stdout",
     "output_type": "stream",
     "text": [
      "[51.8, 71.6, 91.4, 111.2, 131.0]\n"
     ]
    }
   ],
   "source": [
    "celcius = [11,22,33,44,55]\n",
    "fahrenheit = [((9/5)* element + 32) for element in celcius]\n",
    "print (fahrenheit)"
   ]
  },
  {
   "cell_type": "code",
   "execution_count": 37,
   "id": "761a10c2-1557-432a-a3a2-6c255f0dce51",
   "metadata": {},
   "outputs": [
    {
     "name": "stdout",
     "output_type": "stream",
     "text": [
      "[51.8, 71.6, 91.4, 111.2, 131.0]\n"
     ]
    }
   ],
   "source": [
    "fahren = []\n",
    "for element in celcius:\n",
    "    fahren.append(((9/5)* element + 32))\n",
    "print(fahren)"
   ]
  },
  {
   "cell_type": "code",
   "execution_count": 50,
   "id": "dba9c249-8227-4d78-adff-e4f458354c41",
   "metadata": {},
   "outputs": [
    {
     "name": "stdout",
     "output_type": "stream",
     "text": [
      "[220.0, 286.0, 330.0]\n"
     ]
    }
   ],
   "source": [
    "kg = [100,130,150]\n",
    "pound = [round (2.2* element,2) for element in kg]\n",
    "print (pound)"
   ]
  },
  {
   "cell_type": "code",
   "execution_count": 53,
   "id": "a0bcad37-dc9c-4745-b155-0d2b7ade6dce",
   "metadata": {},
   "outputs": [
    {
     "name": "stdout",
     "output_type": "stream",
     "text": [
      "[1, 4, 1089, 16]\n"
     ]
    }
   ],
   "source": [
    "number = [1,2,33,4]\n",
    "digit = [element**2 for element in number]\n",
    "print(digit)"
   ]
  },
  {
   "cell_type": "code",
   "execution_count": 13,
   "id": "d1e2c6c0-8939-426a-80e5-2eff0e059fd6",
   "metadata": {},
   "outputs": [
    {
     "name": "stdout",
     "output_type": "stream",
     "text": [
      "[0, -1, 2, 9, 66]\n"
     ]
    }
   ],
   "source": [
    "sort_list = [9,-1,0,66,2]\n",
    "for i in range(len(sort_list)):\n",
    "    minindex = i# just putting the position\n",
    "    for j in range(i+1,len(sort_list)):\n",
    "        if sort_list[j] < sort_list[minindex]:# comparing the value \n",
    "            minindex = j# just chainging the position\n",
    "# swapping is outside the nested for loop but inside the outer loop\n",
    "        temp = sort_list[minindex]# switching the value\n",
    "        sort_list[minindex] = sort_list[i]\n",
    "        sort_list[i] = temp\n",
    "\n",
    "print(sort_list)\n"
   ]
  },
  {
   "cell_type": "code",
   "execution_count": 1,
   "id": "32338799-e051-4d17-a723-e920221c8c30",
   "metadata": {},
   "outputs": [
    {
     "name": "stdout",
     "output_type": "stream",
     "text": [
      "[0, -1, 2, 9, 66]\n"
     ]
    }
   ],
   "source": [
    "sort_list = [9, -1, 0, 66, 2]\n",
    "\n",
    "for i in range(len(sort_list)):\n",
    "    minindex = i  # Store index, not value\n",
    "\n",
    "    for j in range(i+1, len(sort_list)):  # Find the minimum element\n",
    "        if sort_list[j] < sort_list[minindex]:  # Correct comparison\n",
    "            minindex = j  # Update index of the smallest value, just changing the position\n",
    "\n",
    "    # Swap the found minimum element with the current position\n",
    "   \n",
    "        temp = sort_list[minindex]\n",
    "        sort_list[minindex] = sort_list[i]\n",
    "        sort_list[i] = temp\n",
    "#temp = sort_list[minindex]  # Store -1 in temp\n",
    "#sort_list[minindex] = sort_list[i]  # Move 9 to index 1\n",
    "#sort_list[i] = temp  # Place -1 at index 0\n",
    "\n",
    "\n",
    "\n",
    "print(sort_list)"
   ]
  },
  {
   "cell_type": "code",
   "execution_count": 16,
   "id": "1565a224-2901-41ff-be3b-e76d2d8979c4",
   "metadata": {},
   "outputs": [
    {
     "name": "stdout",
     "output_type": "stream",
     "text": [
      "2\n",
      "3\n"
     ]
    }
   ],
   "source": [
    "a = 3\n",
    "b = 2\n",
    "temp = a # First Save the value of a, \n",
    "a = b # then change the value of a\n",
    "b = temp # now assign the saved value to b\n",
    "print(a)\n",
    "print(b)"
   ]
  },
  {
   "cell_type": "code",
   "execution_count": 23,
   "id": "932a06b6-2034-43de-b9c6-fadd41e528e1",
   "metadata": {},
   "outputs": [
    {
     "name": "stdout",
     "output_type": "stream",
     "text": [
      "The value of r is 40\n",
      "the value of n is 45\n",
      "the exchanged value of r is now 45\n",
      "the exchange value of n is now 40\n"
     ]
    }
   ],
   "source": [
    "r = 40\n",
    "n = 45\n",
    "print (f\"The value of r is {r}\")\n",
    "print (f\"the value of n is {n}\")\n",
    "tmp = r # save the value of r\n",
    "r = n # assign new value to r\n",
    "n = tmp # change the value of n by assigning tmp\n",
    "print (f\"the exchanged value of r is now {r}\")\n",
    "print (f\"the exchange value of n is now {n}\")"
   ]
  },
  {
   "cell_type": "code",
   "execution_count": 18,
   "id": "39564311-5d79-403e-ae60-11e4346e2572",
   "metadata": {},
   "outputs": [
    {
     "data": {
      "text/plain": [
       "'mynAMEISRINZIN'"
      ]
     },
     "execution_count": 18,
     "metadata": {},
     "output_type": "execute_result"
    }
   ],
   "source": [
    "name = 'MynameisRinzin'\n",
    "def name_print(name):\n",
    "    first_word = name[0:3]\n",
    "    second_word = name[3:]\n",
    "    return first_word.lower()+second_word.upper()\n",
    "name_print(name)\n",
    "\n"
   ]
  },
  {
   "cell_type": "code",
   "execution_count": 1,
   "id": "a0891da6-7c08-4177-b350-fb7cd81bcca8",
   "metadata": {},
   "outputs": [],
   "source": [
    "def mulnum(num):\n",
    "    return num**2"
   ]
  },
  {
   "cell_type": "code",
   "execution_count": 2,
   "id": "1f2c99ff-a5ba-4990-8032-ac06a8763696",
   "metadata": {},
   "outputs": [
    {
     "name": "stdout",
     "output_type": "stream",
     "text": [
      "121\n",
      "1089\n",
      "1936\n",
      "3025\n"
     ]
    }
   ],
   "source": [
    "mlist= [11,33,44,55]\n",
    "for item in map(mulnum,mlist):\n",
    "    print (item)"
   ]
  },
  {
   "cell_type": "code",
   "execution_count": 13,
   "id": "7351fbd1-ef9b-4e4f-a73e-e6569f7d42a6",
   "metadata": {},
   "outputs": [
    {
     "name": "stdout",
     "output_type": "stream",
     "text": [
      "[121, 1089, 1936, 3025]\n"
     ]
    }
   ],
   "source": [
    "klist =[11,33,44,55]\n",
    "def mnum(enum):\n",
    "    return  [item**2 for item in enum]\n",
    "print(mnum(klist))"
   ]
  },
  {
   "cell_type": "code",
   "execution_count": 26,
   "id": "c4e57672-036a-48d1-be6c-c43475c92c32",
   "metadata": {},
   "outputs": [
    {
     "name": "stdout",
     "output_type": "stream",
     "text": [
      "121\n",
      "484\n",
      "1089\n",
      "1936\n"
     ]
    }
   ],
   "source": [
    "blist = [11,22,33,44]\n",
    "def snum(gnum):\n",
    "    for item in gnum:\n",
    "        print(item**2)\n",
    "snum(blist)"
   ]
  },
  {
   "cell_type": "code",
   "execution_count": 28,
   "id": "8e096df9-0b7a-49a4-a164-4b5c92b3da65",
   "metadata": {},
   "outputs": [
    {
     "data": {
      "text/plain": [
       "4"
      ]
     },
     "execution_count": 28,
     "metadata": {},
     "output_type": "execute_result"
    }
   ],
   "source": [
    "def square(x):\n",
    "    return x**2\n",
    "square(2)\n"
   ]
  },
  {
   "cell_type": "code",
   "execution_count": 29,
   "id": "64d70324-84da-45eb-9562-145ff0fcc748",
   "metadata": {},
   "outputs": [
    {
     "data": {
      "text/plain": [
       "16"
      ]
     },
     "execution_count": 29,
     "metadata": {},
     "output_type": "execute_result"
    }
   ],
   "source": [
    "square = lambda x: x**2\n",
    "square(4)\n"
   ]
  },
  {
   "cell_type": "code",
   "execution_count": 34,
   "id": "af3cda36-c2d1-43c0-ace1-90b3bbc448a6",
   "metadata": {},
   "outputs": [
    {
     "name": "stdout",
     "output_type": "stream",
     "text": [
      "[11, 22, 33, 44]\n"
     ]
    }
   ],
   "source": [
    "klist = [11,22,33,44]\n",
    "result = [item for item in klist]\n",
    "print(result)\n",
    "    "
   ]
  },
  {
   "cell_type": "code",
   "execution_count": null,
   "id": "2b6ed425-e69e-4595-9045-29fca670eebe",
   "metadata": {},
   "outputs": [],
   "source": [
    "#This is just for an updat in github\n",
    "\n"
   ]
  },
  {
   "cell_type": "code",
   "execution_count": null,
   "id": "04312c58-38f3-4286-8af9-3530fd47951e",
   "metadata": {},
   "outputs": [],
   "source": []
  }
 ],
 "metadata": {
  "kernelspec": {
   "display_name": "Python [conda env:base] *",
   "language": "python",
   "name": "conda-base-py"
  },
  "language_info": {
   "codemirror_mode": {
    "name": "ipython",
    "version": 3
   },
   "file_extension": ".py",
   "mimetype": "text/x-python",
   "name": "python",
   "nbconvert_exporter": "python",
   "pygments_lexer": "ipython3",
   "version": "3.12.7"
  }
 },
 "nbformat": 4,
 "nbformat_minor": 5
}
